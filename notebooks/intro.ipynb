{
 "cells": [
  {
   "cell_type": "markdown",
   "metadata": {},
   "source": [
    "# Harvesting Wild Data"
   ]
  },
  {
   "cell_type": "markdown",
   "metadata": {},
   "source": [
    "# Spoiler Alert\n",
    "\n",
    "# not eyes forward!\n",
    "\n",
    "- Python\n",
    "- Jupyter (IPython Notebook)\n",
    "  - Install\n",
    "  - Use\n",
    "- Pandas\n",
    "- Finding Data\n",
    "- Consuming Data\n",
    "  - CSVs and spreadsheets\n",
    "  - Restful APIs\n",
    "  - PDFs\n",
    "  - Web scraping\n",
    "  "
   ]
  },
  {
   "cell_type": "markdown",
   "metadata": {},
   "source": [
    "Installing\n",
    "==========\n",
    "\n",
    "Using Jupyter\n",
    "=============\n",
    "\n",
    "- Executing a cell \n",
    "- Add a cell \n",
    "- Cell execution order\n",
    "\n",
    "----\n",
    "\n",
    "Executing a cell\n",
    "----------------"
   ]
  },
  {
   "cell_type": "code",
   "execution_count": null,
   "metadata": {},
   "outputs": [],
   "source": [
    "print('Hello, World!')"
   ]
  },
  {
   "cell_type": "markdown",
   "metadata": {},
   "source": [
    "----\n",
    "\n",
    "Help from Jupyter\n",
    "-----------------\n",
    "\n",
    "- `?` and `??` \n",
    "- tab-completion\n",
    "\n",
    "----"
   ]
  },
  {
   "cell_type": "markdown",
   "metadata": {},
   "source": [
    "- [CSV](csv.ipynb)\n",
    "- [Getting data](getting-data.ipynb)\n",
    "- [APIs](api.ipynb)\n",
    "- [PDFs](pdfs.ipynb)\n",
    "- [scraping](scriping.ipynb)"
   ]
  },
  {
   "cell_type": "code",
   "execution_count": null,
   "metadata": {},
   "outputs": [],
   "source": []
  }
 ],
 "metadata": {
  "kernelspec": {
   "display_name": "Python 3",
   "language": "python",
   "name": "python3"
  },
  "language_info": {
   "codemirror_mode": {
    "name": "ipython",
    "version": 3
   },
   "file_extension": ".py",
   "mimetype": "text/x-python",
   "name": "python",
   "nbconvert_exporter": "python",
   "pygments_lexer": "ipython3",
   "version": "3.7.0"
  }
 },
 "nbformat": 4,
 "nbformat_minor": 2
}
