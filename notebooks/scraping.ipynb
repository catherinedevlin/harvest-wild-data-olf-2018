{
 "cells": [
  {
   "cell_type": "code",
   "execution_count": 1,
   "metadata": {},
   "outputs": [],
   "source": [
    "import requests"
   ]
  },
  {
   "cell_type": "code",
   "execution_count": 4,
   "metadata": {},
   "outputs": [],
   "source": [
    "url = 'https://ohiolinux.org/sessions/'"
   ]
  },
  {
   "cell_type": "code",
   "execution_count": 2,
   "metadata": {},
   "outputs": [],
   "source": [
    "import webbrowser"
   ]
  },
  {
   "cell_type": "code",
   "execution_count": 5,
   "metadata": {},
   "outputs": [
    {
     "data": {
      "text/plain": [
       "True"
      ]
     },
     "execution_count": 5,
     "metadata": {},
     "output_type": "execute_result"
    }
   ],
   "source": [
    "webbrowser.open(url)"
   ]
  },
  {
   "cell_type": "code",
   "execution_count": null,
   "metadata": {},
   "outputs": [],
   "source": [
    "resp = requests.get(url)"
   ]
  },
  {
   "cell_type": "code",
   "execution_count": null,
   "metadata": {},
   "outputs": [],
   "source": []
  },
  {
   "cell_type": "markdown",
   "metadata": {},
   "source": [
    "[requests-html](https://html.python-requests.org/)"
   ]
  },
  {
   "cell_type": "code",
   "execution_count": 11,
   "metadata": {},
   "outputs": [],
   "source": [
    "from requests_html import HTMLSession\n",
    "session = HTMLSession()\n",
    "r = session.get(url)"
   ]
  },
  {
   "cell_type": "code",
   "execution_count": 7,
   "metadata": {},
   "outputs": [
    {
     "data": {
      "text/plain": [
       "{'https://en.wikipedia.org/wiki/Lightning_talk',\n",
       " 'https://ohiolinux.org/',\n",
       " 'https://ohiolinux.org/2016/04/',\n",
       " 'https://ohiolinux.org/2016/05/',\n",
       " 'https://ohiolinux.org/2016/06/',\n",
       " 'https://ohiolinux.org/2016/07/',\n",
       " 'https://ohiolinux.org/2016/08/',\n",
       " 'https://ohiolinux.org/2016/09/',\n",
       " 'https://ohiolinux.org/2016/10/',\n",
       " 'https://ohiolinux.org/2017/04/',\n",
       " 'https://ohiolinux.org/2017/06/',\n",
       " 'https://ohiolinux.org/2017/07/',\n",
       " 'https://ohiolinux.org/2017/08/',\n",
       " 'https://ohiolinux.org/2017/09/',\n",
       " 'https://ohiolinux.org/2018/01/',\n",
       " 'https://ohiolinux.org/2018/05/',\n",
       " 'https://ohiolinux.org/2018/07/',\n",
       " 'https://ohiolinux.org/2018/08/',\n",
       " 'https://ohiolinux.org/2018/09/',\n",
       " 'https://ohiolinux.org/2018/10/',\n",
       " 'https://ohiolinux.org/about/',\n",
       " 'https://ohiolinux.org/about/conduct-policy/',\n",
       " 'https://ohiolinux.org/about/speaker-information/',\n",
       " 'https://ohiolinux.org/about/staff/',\n",
       " 'https://ohiolinux.org/birds-of-a-feather-topics-for-2018/',\n",
       " 'https://ohiolinux.org/bof/',\n",
       " 'https://ohiolinux.org/feed/',\n",
       " 'https://ohiolinux.org/hotels/',\n",
       " 'https://ohiolinux.org/linux-professional-institute-at-ohio-linuxfest/',\n",
       " 'https://ohiolinux.org/news/',\n",
       " 'https://ohiolinux.org/olfi-training-2018/',\n",
       " 'https://ohiolinux.org/propose-your-birds-of-a-feather-session-for-ohio-linuxfest-2018/',\n",
       " 'https://ohiolinux.org/registration-for-olfi-training-programs-is-open/',\n",
       " 'https://ohiolinux.org/registration/',\n",
       " 'https://ohiolinux.org/schedule/',\n",
       " 'https://ohiolinux.org/sessions/',\n",
       " 'https://ohiolinux.org/speaker-agreement/',\n",
       " 'https://ohiolinux.org/speakers/',\n",
       " 'https://ohiolinux.org/speakers/#grimes',\n",
       " 'https://ohiolinux.org/speakers/#joseph',\n",
       " 'https://ohiolinux.org/speakers/#lavigne',\n",
       " 'https://ohiolinux.org/sponsors/',\n",
       " 'https://ohiolinux.org/sponsors/sponsorship-application/',\n",
       " 'https://ohiolinux.org/the-schedule-is-here/',\n",
       " 'https://ohiolinux.org/volunteer/',\n",
       " 'https://plus.google.com/115427726325867857390',\n",
       " 'https://twitter.com/ohiolinux',\n",
       " 'https://www.facebook.com/pages/The-Ohio-LinuxFest/123357071009599',\n",
       " 'https:/ohiolinux.org/speakers/#benzinger',\n",
       " 'https:/ohiolinux.org/speakers/#both',\n",
       " 'https:/ohiolinux.org/speakers/#bowen',\n",
       " 'https:/ohiolinux.org/speakers/#briggs',\n",
       " 'https:/ohiolinux.org/speakers/#carlson',\n",
       " 'https:/ohiolinux.org/speakers/#dicks',\n",
       " 'https:/ohiolinux.org/speakers/#dowling',\n",
       " 'https:/ohiolinux.org/speakers/#downling',\n",
       " 'https:/ohiolinux.org/speakers/#ebright',\n",
       " 'https:/ohiolinux.org/speakers/#elliott',\n",
       " 'https:/ohiolinux.org/speakers/#frank',\n",
       " 'https:/ohiolinux.org/speakers/#graff',\n",
       " 'https:/ohiolinux.org/speakers/#grimes',\n",
       " 'https:/ohiolinux.org/speakers/#hofstetter',\n",
       " 'https:/ohiolinux.org/speakers/#honeycutt',\n",
       " 'https:/ohiolinux.org/speakers/#howald',\n",
       " 'https:/ohiolinux.org/speakers/#juarez',\n",
       " 'https:/ohiolinux.org/speakers/#kimball',\n",
       " 'https:/ohiolinux.org/speakers/#kittle',\n",
       " 'https:/ohiolinux.org/speakers/#kovach',\n",
       " 'https:/ohiolinux.org/speakers/#kromhout',\n",
       " 'https:/ohiolinux.org/speakers/#kwiatkowski',\n",
       " 'https:/ohiolinux.org/speakers/#markley',\n",
       " 'https:/ohiolinux.org/speakers/#mattern',\n",
       " 'https:/ohiolinux.org/speakers/#miller',\n",
       " 'https:/ohiolinux.org/speakers/#ovens',\n",
       " 'https:/ohiolinux.org/speakers/#ownes',\n",
       " 'https:/ohiolinux.org/speakers/#pritchard',\n",
       " 'https:/ohiolinux.org/speakers/#slaughter',\n",
       " 'https:/ohiolinux.org/speakers/#swing',\n",
       " 'https:/ohiolinux.org/speakers/#vosburg',\n",
       " 'https:/ohiolinux.org/speakers/#wildman',\n",
       " 'https:/ohiolinux.org/speakers/#williams',\n",
       " 'https:/ohiolinux.org/speakers/#zlotnik'}"
      ]
     },
     "execution_count": 7,
     "metadata": {},
     "output_type": "execute_result"
    }
   ],
   "source": [
    "r.html.links"
   ]
  },
  {
   "cell_type": "markdown",
   "metadata": {},
   "source": [
    "# `find` for CSS selectors"
   ]
  },
  {
   "cell_type": "code",
   "execution_count": null,
   "metadata": {},
   "outputs": [],
   "source": [
    "strong = r.html.find('strong')[0]"
   ]
  },
  {
   "cell_type": "code",
   "execution_count": null,
   "metadata": {},
   "outputs": [],
   "source": [
    "strong.text"
   ]
  },
  {
   "cell_type": "code",
   "execution_count": 8,
   "metadata": {},
   "outputs": [],
   "source": [
    "import pandas as pd"
   ]
  },
  {
   "cell_type": "code",
   "execution_count": 9,
   "metadata": {},
   "outputs": [],
   "source": [
    "cities = pd.read_html('https://en.wikipedia.org/wiki/List_of_cities_in_Ohio')"
   ]
  },
  {
   "cell_type": "code",
   "execution_count": 10,
   "metadata": {},
   "outputs": [
    {
     "data": {
      "text/html": [
       "<div>\n",
       "<style scoped>\n",
       "    .dataframe tbody tr th:only-of-type {\n",
       "        vertical-align: middle;\n",
       "    }\n",
       "\n",
       "    .dataframe tbody tr th {\n",
       "        vertical-align: top;\n",
       "    }\n",
       "\n",
       "    .dataframe thead th {\n",
       "        text-align: right;\n",
       "    }\n",
       "</style>\n",
       "<table border=\"1\" class=\"dataframe\">\n",
       "  <thead>\n",
       "    <tr style=\"text-align: right;\">\n",
       "      <th></th>\n",
       "      <th>0</th>\n",
       "      <th>1</th>\n",
       "      <th>2</th>\n",
       "      <th>3</th>\n",
       "    </tr>\n",
       "  </thead>\n",
       "  <tbody>\n",
       "    <tr>\n",
       "      <th>0</th>\n",
       "      <td>Name</td>\n",
       "      <td>Counties</td>\n",
       "      <td>Incorp.</td>\n",
       "      <td>Pop. (2010)[3]</td>\n",
       "    </tr>\n",
       "    <tr>\n",
       "      <th>1</th>\n",
       "      <td>Akron</td>\n",
       "      <td>Summit</td>\n",
       "      <td>1865</td>\n",
       "      <td>NaN</td>\n",
       "    </tr>\n",
       "    <tr>\n",
       "      <th>2</th>\n",
       "      <td>Alliance</td>\n",
       "      <td>Mahoning, Stark</td>\n",
       "      <td>1854</td>\n",
       "      <td>NaN</td>\n",
       "    </tr>\n",
       "    <tr>\n",
       "      <th>3</th>\n",
       "      <td>Amherst</td>\n",
       "      <td>Lorain</td>\n",
       "      <td>1872</td>\n",
       "      <td>NaN</td>\n",
       "    </tr>\n",
       "    <tr>\n",
       "      <th>4</th>\n",
       "      <td>Ashland</td>\n",
       "      <td>Ashland</td>\n",
       "      <td>1913</td>\n",
       "      <td>NaN</td>\n",
       "    </tr>\n",
       "  </tbody>\n",
       "</table>\n",
       "</div>"
      ],
      "text/plain": [
       "          0                1        2               3\n",
       "0      Name         Counties  Incorp.  Pop. (2010)[3]\n",
       "1     Akron           Summit     1865             NaN\n",
       "2  Alliance  Mahoning, Stark     1854             NaN\n",
       "3   Amherst           Lorain     1872             NaN\n",
       "4   Ashland          Ashland     1913             NaN"
      ]
     },
     "execution_count": 10,
     "metadata": {},
     "output_type": "execute_result"
    }
   ],
   "source": [
    "cities[0].head()"
   ]
  },
  {
   "cell_type": "code",
   "execution_count": null,
   "metadata": {},
   "outputs": [],
   "source": [
    "cities = pd.read_html('https://en.wikipedia.org/wiki/List_of_cities_in_Ohio',\n",
    "                     header=0)"
   ]
  },
  {
   "cell_type": "code",
   "execution_count": null,
   "metadata": {},
   "outputs": [],
   "source": [
    "cities[0].head()"
   ]
  },
  {
   "cell_type": "code",
   "execution_count": null,
   "metadata": {},
   "outputs": [],
   "source": [
    "cities = pd.read_html('https://en.wikipedia.org/wiki/List_of_cities_in_Ohio',\n",
    "                     header=0, thousands=',')"
   ]
  },
  {
   "cell_type": "code",
   "execution_count": null,
   "metadata": {},
   "outputs": [],
   "source": [
    "cities = cities[0]\n",
    "cities.head()"
   ]
  },
  {
   "cell_type": "code",
   "execution_count": null,
   "metadata": {},
   "outputs": [],
   "source": [
    "cities['population'] = cities['Pop. (2010)[3]']"
   ]
  },
  {
   "cell_type": "code",
   "execution_count": null,
   "metadata": {},
   "outputs": [],
   "source": [
    "cities = cities.drop('Pop. (2010)[3]', axis=1)\n",
    "cities"
   ]
  },
  {
   "cell_type": "code",
   "execution_count": null,
   "metadata": {},
   "outputs": [],
   "source": [
    "def conv(x):\n",
    "    return int(x.replace(',', ''))"
   ]
  },
  {
   "cell_type": "code",
   "execution_count": null,
   "metadata": {},
   "outputs": [],
   "source": [
    "cities = pd.read_html('https://en.wikipedia.org/wiki/List_of_cities_in_Ohio',\n",
    "                      match='wikitables',\n",
    "                     header=0, converters={'Pop. (2010)[3]':conv})"
   ]
  },
  {
   "cell_type": "markdown",
   "metadata": {},
   "source": [
    "# Build DataFrame manually"
   ]
  },
  {
   "cell_type": "code",
   "execution_count": 21,
   "metadata": {},
   "outputs": [
    {
     "data": {
      "text/html": [
       "<div>\n",
       "<style scoped>\n",
       "    .dataframe tbody tr th:only-of-type {\n",
       "        vertical-align: middle;\n",
       "    }\n",
       "\n",
       "    .dataframe tbody tr th {\n",
       "        vertical-align: top;\n",
       "    }\n",
       "\n",
       "    .dataframe thead th {\n",
       "        text-align: right;\n",
       "    }\n",
       "</style>\n",
       "<table border=\"1\" class=\"dataframe\">\n",
       "  <thead>\n",
       "    <tr style=\"text-align: right;\">\n",
       "      <th></th>\n",
       "      <th>state</th>\n",
       "      <th>capitol</th>\n",
       "    </tr>\n",
       "  </thead>\n",
       "  <tbody>\n",
       "    <tr>\n",
       "      <th>0</th>\n",
       "      <td>OH</td>\n",
       "      <td>Columbus</td>\n",
       "    </tr>\n",
       "    <tr>\n",
       "      <th>1</th>\n",
       "      <td>PA</td>\n",
       "      <td>Harrisburg</td>\n",
       "    </tr>\n",
       "    <tr>\n",
       "      <th>2</th>\n",
       "      <td>MI</td>\n",
       "      <td>Lansing</td>\n",
       "    </tr>\n",
       "    <tr>\n",
       "      <th>3</th>\n",
       "      <td>MN</td>\n",
       "      <td>St. Paul</td>\n",
       "    </tr>\n",
       "  </tbody>\n",
       "</table>\n",
       "</div>"
      ],
      "text/plain": [
       "  state     capitol\n",
       "0    OH    Columbus\n",
       "1    PA  Harrisburg\n",
       "2    MI     Lansing\n",
       "3    MN    St. Paul"
      ]
     },
     "execution_count": 21,
     "metadata": {},
     "output_type": "execute_result"
    }
   ],
   "source": [
    "states = ['OH', 'PA', 'MI', 'MN']\n",
    "capitols = ['Columbus', 'Harrisburg', 'Lansing', 'St. Paul']\n",
    "frame = pd.DataFrame({'state': states, 'capitol': capitols})\n",
    "frame"
   ]
  },
  {
   "cell_type": "markdown",
   "metadata": {},
   "source": [
    "# See also \n",
    "\n",
    "- scrapy\n",
    "- Beautiful Soup"
   ]
  },
  {
   "cell_type": "code",
   "execution_count": null,
   "metadata": {},
   "outputs": [],
   "source": []
  }
 ],
 "metadata": {
  "kernelspec": {
   "display_name": "Python 3",
   "language": "python",
   "name": "python3"
  },
  "language_info": {
   "codemirror_mode": {
    "name": "ipython",
    "version": 3
   },
   "file_extension": ".py",
   "mimetype": "text/x-python",
   "name": "python",
   "nbconvert_exporter": "python",
   "pygments_lexer": "ipython3",
   "version": "3.7.0"
  }
 },
 "nbformat": 4,
 "nbformat_minor": 2
}
