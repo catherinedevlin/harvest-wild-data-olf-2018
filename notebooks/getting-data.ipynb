{
 "cells": [
  {
   "cell_type": "markdown",
   "metadata": {},
   "source": [
    "# Getting Data"
   ]
  },
  {
   "cell_type": "markdown",
   "metadata": {},
   "source": [
    "Browse [data.gov](https://www.data.gov/):\n",
    "\n",
    "- [climate](https://www.data.gov/climate/)\n",
    "- [Data](https://catalog.data.gov/dataset?groups=climate5434&#topic=climate_navigation)\n",
    "- Third [HTML](https://www.ncdc.noaa.gov/stormevents/)"
   ]
  },
  {
   "cell_type": "markdown",
   "metadata": {},
   "source": [
    "# (Some) More Sources\n",
    "\n",
    "- [Open Data Census](http://us-cities.survey.okfn.org/)\n",
    "- [Humanitarian Data Exchange](https://data.humdata.org/)\n",
    "- [curated data set lists](https://github.com/awesomedata/awesome-public-datasets)\n",
    "- [curated API lists](https://github.com/abhishekbanthia/Public-APIs)\n",
    "- [Ohio Checkbook](http://ohiotreasurer.gov/Transparency/Ohios-Online-Checkbook)\n"
   ]
  },
  {
   "cell_type": "markdown",
   "metadata": {},
   "source": [
    "# From Python\n",
    "\n",
    "Install and import [requests]()"
   ]
  },
  {
   "cell_type": "code",
   "execution_count": null,
   "metadata": {},
   "outputs": [],
   "source": [
    "import requests\n",
    "tb_data_dict_url = 'https://extranet.who.int/tme/generateCSV.asp?ds=dictionary'\n",
    "resp = requests.get(tb_data_dict_url)"
   ]
  },
  {
   "cell_type": "code",
   "execution_count": null,
   "metadata": {},
   "outputs": [],
   "source": [
    "print(resp.text[:500])"
   ]
  },
  {
   "cell_type": "code",
   "execution_count": null,
   "metadata": {},
   "outputs": [],
   "source": [
    "import pandas as pd\n",
    "import io"
   ]
  },
  {
   "cell_type": "code",
   "execution_count": null,
   "metadata": {},
   "outputs": [],
   "source": [
    "pd.read_csv?"
   ]
  },
  {
   "cell_type": "code",
   "execution_count": null,
   "metadata": {},
   "outputs": [],
   "source": [
    "buffer = io.StringIO(resp.text)\n",
    "tb = pd.read_csv(buffer)"
   ]
  },
  {
   "cell_type": "code",
   "execution_count": null,
   "metadata": {},
   "outputs": [],
   "source": [
    "tb.head()"
   ]
  },
  {
   "cell_type": "markdown",
   "metadata": {},
   "source": [
    "Options available for authentication"
   ]
  },
  {
   "cell_type": "markdown",
   "metadata": {},
   "source": [
    "[In case of zipfiles...](https://techoverflow.net/2018/01/16/downloading-reading-a-zip-file-in-memory-using-python/)"
   ]
  },
  {
   "cell_type": "code",
   "execution_count": null,
   "metadata": {},
   "outputs": [],
   "source": [
    "import zipfile\n",
    "def download_extract_zip(url):\n",
    "    \"\"\"\n",
    "    Download a ZIP file and extract its contents in memory\n",
    "    yields (filename, file-like object) pairs\n",
    "    \"\"\"\n",
    "    response = requests.get(url)\n",
    "    with zipfile.ZipFile(io.BytesIO(response.content)) as thezip:\n",
    "        for zipinfo in thezip.infolist():\n",
    "            with thezip.open(zipinfo) as thefile:\n",
    "                yield zipinfo.filename, thefile"
   ]
  },
  {
   "cell_type": "code",
   "execution_count": null,
   "metadata": {},
   "outputs": [],
   "source": [
    "url='http://datasets.wri.org/dataset/540dcf46-f287-47ac-985d-269b04bea4c6/resource/27c271ef-63c3-49c5-a06a-f21bb7b96371/download/globalpowerplantdatabasev110'\n",
    "(filename, file_buffer) = next(download_extract_zip(url))"
   ]
  },
  {
   "cell_type": "code",
   "execution_count": null,
   "metadata": {},
   "outputs": [],
   "source": [
    "url='http://datasets.wri.org/dataset/540dcf46-f287-47ac-985d-269b04bea4c6/resource/27c271ef-63c3-49c5-a06a-f21bb7b96371/download/globalpowerplantdatabasev110'\n",
    "for (filename, file_buffer) in download_extract_zip(url):\n",
    "    print(filename)"
   ]
  },
  {
   "cell_type": "code",
   "execution_count": null,
   "metadata": {},
   "outputs": [],
   "source": [
    "url='http://datasets.wri.org/dataset/540dcf46-f287-47ac-985d-269b04bea4c6/resource/27c271ef-63c3-49c5-a06a-f21bb7b96371/download/globalpowerplantdatabasev110'\n",
    "for (filename, file_buffer) in download_extract_zip(url):\n",
    "    if filename.endswith('.csv'):\n",
    "        powerplants = pd.read_csv(file_buffer)"
   ]
  },
  {
   "cell_type": "code",
   "execution_count": null,
   "metadata": {},
   "outputs": [],
   "source": [
    "powerplants.head()"
   ]
  },
  {
   "cell_type": "markdown",
   "metadata": {},
   "source": [
    "See also: [Selenium](https://realpython.com/modern-web-automation-with-python-and-selenium/)"
   ]
  }
 ],
 "metadata": {
  "kernelspec": {
   "display_name": "Python 3",
   "language": "python",
   "name": "python3"
  },
  "language_info": {
   "codemirror_mode": {
    "name": "ipython",
    "version": 3
   },
   "file_extension": ".py",
   "mimetype": "text/x-python",
   "name": "python",
   "nbconvert_exporter": "python",
   "pygments_lexer": "ipython3",
   "version": "3.7.0"
  }
 },
 "nbformat": 4,
 "nbformat_minor": 2
}
