{
 "cells": [
  {
   "cell_type": "markdown",
   "metadata": {},
   "source": [
    "# [CSV exercise: storm data]()\n",
    "\n",
    "[source](https://www1.ncdc.noaa.gov/pub/data/swdi/stormevents/csvfiles/)\n",
    "\n"
   ]
  },
  {
   "cell_type": "code",
   "execution_count": null,
   "metadata": {},
   "outputs": [],
   "source": [
    "ls sources/"
   ]
  },
  {
   "cell_type": "markdown",
   "metadata": {},
   "source": [
    "[sources/StormEvents_details-ftp_v1.0_d2017_c20180918.csv](sources/StormEvents_details-ftp_v1.0_d2017_c20180918.csv)"
   ]
  },
  {
   "cell_type": "code",
   "execution_count": null,
   "metadata": {},
   "outputs": [],
   "source": [
    "import pandas as pd"
   ]
  },
  {
   "cell_type": "code",
   "execution_count": null,
   "metadata": {},
   "outputs": [],
   "source": [
    "storms = pd.read_csv('sources/StormEvents_details-ftp_v1.0_d2017_c20180918.csv')  # Needs an argument...\n",
    "storms.head()"
   ]
  },
  {
   "cell_type": "code",
   "execution_count": null,
   "metadata": {},
   "outputs": [],
   "source": [
    "storms.iloc[0]"
   ]
  },
  {
   "cell_type": "markdown",
   "metadata": {},
   "source": [
    "# Plain-python evaluation"
   ]
  },
  {
   "cell_type": "markdown",
   "metadata": {},
   "source": [
    "## Looping"
   ]
  },
  {
   "cell_type": "code",
   "execution_count": null,
   "metadata": {},
   "outputs": [],
   "source": [
    "for row in list(storms.itertuples())[:10]:\n",
    "    print(row.STATE)"
   ]
  },
  {
   "cell_type": "markdown",
   "metadata": {},
   "source": [
    "## Gather some statistics...\n",
    "\n",
    "Ideas for the state you were born in...\n",
    "- How many events of each type?\n",
    "- Sum of property damage?\n",
    "- How many events, by month?"
   ]
  },
  {
   "cell_type": "code",
   "execution_count": null,
   "metadata": {},
   "outputs": [],
   "source": [
    "n_events = 0 \n",
    "for row in storms.itertuples():\n",
    "    if row.STATE == 'MINNESOTA':  # your filter here\n",
    "        n_events += 1  # please do something more interesting\n",
    "print(f'{n_events} events total')"
   ]
  },
  {
   "cell_type": "markdown",
   "metadata": {},
   "source": [
    "# Applying Pandas"
   ]
  },
  {
   "cell_type": "code",
   "execution_count": null,
   "metadata": {},
   "outputs": [],
   "source": [
    "storms.EVENT_TYPE.value_counts()"
   ]
  },
  {
   "cell_type": "markdown",
   "metadata": {},
   "source": [
    "# Data cleanup"
   ]
  },
  {
   "cell_type": "code",
   "execution_count": null,
   "metadata": {},
   "outputs": [],
   "source": [
    "storms.DAMAGE_CROPS.head()"
   ]
  },
  {
   "cell_type": "code",
   "execution_count": null,
   "metadata": {},
   "outputs": [],
   "source": [
    "def str_to_num(x):\n",
    "    abbrevs = {'K': 1000, 'M': 1000000, 'B': 1000000000}\n",
    "    try:\n",
    "        suffix = x.strip()[-1]\n",
    "    except AttributeError:  # not a number at all \n",
    "        return x\n",
    "    if suffix in abbrevs:\n",
    "        multiplier = abbrevs[suffix]\n",
    "        quant = float(x.strip()[:-1])\n",
    "    else:\n",
    "        multiplier = 1 \n",
    "        quant = float(x.strip())\n",
    "    return quant * multiplier\n"
   ]
  },
  {
   "cell_type": "code",
   "execution_count": null,
   "metadata": {},
   "outputs": [],
   "source": [
    "str_to_num('3.4K')"
   ]
  },
  {
   "cell_type": "code",
   "execution_count": null,
   "metadata": {},
   "outputs": [],
   "source": [
    "str_to_num('360 ')"
   ]
  },
  {
   "cell_type": "code",
   "execution_count": null,
   "metadata": {},
   "outputs": [],
   "source": [
    "str_to_num(np.NaN)"
   ]
  },
  {
   "cell_type": "code",
   "execution_count": null,
   "metadata": {},
   "outputs": [],
   "source": [
    "storms['damage_crops_cleaned'] = storms.DAMAGE_CROPS.apply(str_to_num)"
   ]
  },
  {
   "cell_type": "code",
   "execution_count": null,
   "metadata": {},
   "outputs": [],
   "source": [
    "storms[['DAMAGE_CROPS', 'damage_crops_cleaned']].head()"
   ]
  },
  {
   "cell_type": "markdown",
   "metadata": {},
   "source": [
    "# Filter"
   ]
  },
  {
   "cell_type": "code",
   "execution_count": null,
   "metadata": {},
   "outputs": [],
   "source": [
    "storms[storms.STATE == 'MINNESOTA']"
   ]
  },
  {
   "cell_type": "markdown",
   "metadata": {},
   "source": [
    "Can you figure out (or look up) filtering by more than one criterion?"
   ]
  },
  {
   "cell_type": "markdown",
   "metadata": {},
   "source": [
    "## Ideas\n",
    "\n",
    "- Most costly event?\n",
    "- Average $ damage, by event type?\n",
    "- Most common event by state?"
   ]
  },
  {
   "cell_type": "code",
   "execution_count": null,
   "metadata": {},
   "outputs": [],
   "source": []
  },
  {
   "cell_type": "markdown",
   "metadata": {},
   "source": [
    "## Pass your own functions\n",
    "\n",
    "Here's a boring example.  Can you make a better one?"
   ]
  },
  {
   "cell_type": "code",
   "execution_count": null,
   "metadata": {},
   "outputs": [],
   "source": [
    "storms.DAMAGE_PROPERTY.head()"
   ]
  },
  {
   "cell_type": "code",
   "execution_count": null,
   "metadata": {},
   "outputs": [],
   "source": [
    "# Remember how to apply str_to_num?\n",
    "storms['damage_property_cleaned'] = storms.DAMAGE_PROPERTY.apply(str_to_num)"
   ]
  },
  {
   "cell_type": "code",
   "execution_count": null,
   "metadata": {},
   "outputs": [],
   "source": [
    "import numpy as np\n",
    "def crops_to_property(storm):\n",
    "    \"Ratio of crop damage to property damage.\"\n",
    "    \n",
    "    return np.divide(storm.damage_crops_cleaned, storm.damage_property_cleaned)"
   ]
  },
  {
   "cell_type": "code",
   "execution_count": null,
   "metadata": {},
   "outputs": [],
   "source": [
    "storms['crops_to_property'] = storms.apply(crops_to_property, axis=1)"
   ]
  },
  {
   "cell_type": "markdown",
   "metadata": {},
   "source": [
    "# Format fixes"
   ]
  },
  {
   "cell_type": "code",
   "execution_count": null,
   "metadata": {},
   "outputs": [],
   "source": [
    "storms.BEGIN_DATE_TIME.head()"
   ]
  },
  {
   "cell_type": "code",
   "execution_count": null,
   "metadata": {},
   "outputs": [],
   "source": [
    "pd.to_datetime(storms.BEGIN_DATE_TIME).head()"
   ]
  },
  {
   "cell_type": "code",
   "execution_count": null,
   "metadata": {},
   "outputs": [],
   "source": [
    "storms['begin'] = pd.to_datetime(storms.BEGIN_DATE_TIME)"
   ]
  },
  {
   "cell_type": "markdown",
   "metadata": {},
   "source": [
    "# Make a filtered subset"
   ]
  },
  {
   "cell_type": "code",
   "execution_count": null,
   "metadata": {},
   "outputs": [],
   "source": [
    "storms[storms.damage_crops_cleaned > 0 &\n",
    "       storms.damage_crops_cleaned.notnull()] \\\n",
    "       .damage_crops_cleaned.head()"
   ]
  },
  {
   "cell_type": "code",
   "execution_count": null,
   "metadata": {},
   "outputs": [],
   "source": [
    "damaging_storms = storms[storms.damage_crops_cleaned > 0 &\n",
    "       storms.damage_crops_cleaned.notnull()]"
   ]
  },
  {
   "cell_type": "markdown",
   "metadata": {},
   "source": [
    "# Plot with [Altair](https://altair-viz.github.io/)"
   ]
  },
  {
   "cell_type": "code",
   "execution_count": null,
   "metadata": {},
   "outputs": [],
   "source": [
    "import altair as alt"
   ]
  },
  {
   "cell_type": "markdown",
   "metadata": {},
   "source": [
    "Altair requires some extra work for [large data](https://altair-viz.github.io/user_guide/faq.html)"
   ]
  },
  {
   "cell_type": "code",
   "execution_count": null,
   "metadata": {},
   "outputs": [],
   "source": [
    "chart = alt.Chart(damaging_storms).mark_bar().encode(\n",
    "        alt.X('damage_property_cleaned:Q', bin=True),\n",
    "        y='count()')\n",
    "\n",
    "with alt.data_transformers.enable('json'):\n",
    "    chart.display()"
   ]
  },
  {
   "cell_type": "code",
   "execution_count": null,
   "metadata": {},
   "outputs": [],
   "source": [
    "chart = alt.Chart(damaging_storms).mark_point().encode(\n",
    "        x='begin', y='damage_property_cleaned')\n",
    "\n",
    "with alt.data_transformers.enable('json'):\n",
    "    chart.display()"
   ]
  },
  {
   "cell_type": "code",
   "execution_count": null,
   "metadata": {},
   "outputs": [],
   "source": [
    "chart = alt.Chart(damaging_storms).mark_point().encode(\n",
    "        x='begin:T', \n",
    "        y=alt.Y('damage_property_cleaned:Q', \n",
    "                   scale=alt.Scale(type='log'))\n",
    ")\n",
    "\n",
    "with alt.data_transformers.enable('json'):\n",
    "    chart.display()"
   ]
  },
  {
   "cell_type": "code",
   "execution_count": null,
   "metadata": {},
   "outputs": [],
   "source": [
    "damaging_storms.BEGIN_DATE_TIME.head()"
   ]
  },
  {
   "cell_type": "code",
   "execution_count": null,
   "metadata": {},
   "outputs": [],
   "source": [
    "chart = altair.Chart(damaging_storms).mark_point().encode(\n",
    "        altair.X('damage_property_cleaned:Q', bin=True),\n",
    "        y='count()')\n",
    "\n",
    "with altair.data_transformers.enable('json'):\n",
    "    chart.display()"
   ]
  },
  {
   "cell_type": "markdown",
   "metadata": {},
   "source": [
    "# Function on DataFrame"
   ]
  },
  {
   "cell_type": "code",
   "execution_count": null,
   "metadata": {},
   "outputs": [],
   "source": [
    "talks['first_last_ratio'] = talks.apply(\n",
    "    lambda talk: np.divide(len(talk.firstname), len(talk.lastname)),\n",
    "    axis=1\n",
    "    )\n"
   ]
  },
  {
   "cell_type": "code",
   "execution_count": null,
   "metadata": {},
   "outputs": [],
   "source": [
    "talks[['firstname', 'lastname', 'first_last_ratio']]"
   ]
  },
  {
   "cell_type": "code",
   "execution_count": null,
   "metadata": {},
   "outputs": [],
   "source": [
    "talks[talks.first_last_ratio == talks.first_last_ratio.max()]"
   ]
  },
  {
   "cell_type": "code",
   "execution_count": null,
   "metadata": {},
   "outputs": [],
   "source": [
    "talks.loc[talks.first_last_ratio.idxmax()]"
   ]
  },
  {
   "cell_type": "code",
   "execution_count": null,
   "metadata": {},
   "outputs": [],
   "source": []
  }
 ],
 "metadata": {
  "kernelspec": {
   "display_name": "Python 3",
   "language": "python",
   "name": "python3"
  },
  "language_info": {
   "codemirror_mode": {
    "name": "ipython",
    "version": 3
   },
   "file_extension": ".py",
   "mimetype": "text/x-python",
   "name": "python",
   "nbconvert_exporter": "python",
   "pygments_lexer": "ipython3",
   "version": "3.7.0"
  }
 },
 "nbformat": 4,
 "nbformat_minor": 2
}
